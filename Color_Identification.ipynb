{
  "nbformat": 4,
  "nbformat_minor": 0,
  "metadata": {
    "colab": {
      "name": "Color Identification.ipynb",
      "provenance": [],
      "authorship_tag": "ABX9TyMdQwgkPwYfcByesy/kMrJV",
      "include_colab_link": true
    },
    "kernelspec": {
      "name": "python3",
      "display_name": "Python 3"
    },
    "language_info": {
      "name": "python"
    }
  },
  "cells": [
    {
      "cell_type": "markdown",
      "metadata": {
        "id": "view-in-github",
        "colab_type": "text"
      },
      "source": [
        "<a href=\"https://colab.research.google.com/github/UCLAbrucequ/CHIPS_Color_identification/blob/main/Color_Identification.ipynb\" target=\"_parent\"><img src=\"https://colab.research.google.com/assets/colab-badge.svg\" alt=\"Open In Colab\"/></a>"
      ]
    },
    {
      "cell_type": "markdown",
      "metadata": {
        "id": "uSwSVwJAa28v"
      },
      "source": [
        "## Import **Libraries**"
      ]
    },
    {
      "cell_type": "code",
      "metadata": {
        "id": "rZNumNBOWjHp"
      },
      "source": [
        "import numpy as np\n",
        "import sklearn \n",
        "import matplotlib.pyplot as plt\n",
        "import cv2\n",
        "import pandas as pd"
      ],
      "execution_count": 1,
      "outputs": []
    },
    {
      "cell_type": "markdown",
      "metadata": {
        "id": "ZB1PBYDB5oSX"
      },
      "source": [
        "# Input Image"
      ]
    },
    {
      "cell_type": "code",
      "metadata": {
        "id": "azKe66IHb5Sm"
      },
      "source": [
        "image_path = '~/content/Research/'\n",
        "\n",
        "image = cv2.imread('')\n"
      ],
      "execution_count": null,
      "outputs": []
    },
    {
      "cell_type": "code",
      "metadata": {
        "id": "DzfuqxWv50ux"
      },
      "source": [
        "from google.colab import drive\n",
        "drive.mount('/content/drive')"
      ],
      "execution_count": null,
      "outputs": []
    },
    {
      "cell_type": "code",
      "metadata": {
        "colab": {
          "base_uri": "https://localhost:8080/"
        },
        "id": "IiCtCg1K7-K2",
        "outputId": "164a4150-86b2-4256-9c5d-772ffa17aacc"
      },
      "source": [
        ""
      ],
      "execution_count": 8,
      "outputs": [
        {
          "output_type": "stream",
          "name": "stdout",
          "text": [
            "/content\n"
          ]
        }
      ]
    }
  ]
}